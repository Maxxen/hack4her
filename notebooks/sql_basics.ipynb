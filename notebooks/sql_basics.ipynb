{
 "cells": [
  {
   "cell_type": "code",
   "execution_count": null,
   "id": "8131dc55-380a-4b3e-a99f-c903f38715b0",
   "metadata": {},
   "outputs": [],
   "source": [
    "import duckdb\n",
    "import pandas as pd\n",
    "\n",
    "%config SqlMagic.autopandas = True\n",
    "%config SqlMagic.feedback = False\n",
    "%config SqlMagic.displaylimit = 10\n",
    "\n",
    "pd.set_option(\"display.precision\", 2)\n",
    "\n",
    "con = duckdb.connect()\n",
    "\n",
    "%reload_ext sql\n",
    "%sql con --alias duckdb"
   ]
  },
  {
   "cell_type": "markdown",
   "id": "63c5956e",
   "metadata": {},
   "source": [
    "## Creating and updating tables"
   ]
  },
  {
   "cell_type": "code",
   "execution_count": null,
   "id": "eda6496f",
   "metadata": {
    "vscode": {
     "languageId": "sql"
    }
   },
   "outputs": [],
   "source": [
    "%%sql\n",
    "\n",
    "-- Create a table \"users\" with columns \"id\", \"name\", and \"age\"\n",
    "CREATE TABLE users (id INT, name VARCHAR, age INT);\n",
    "\n",
    "-- Insert some data into the table\n",
    "INSERT INTO users VALUES (1, 'Alice', 30);\n",
    "INSERT INTO users VALUES (2, 'Max', 25);\n",
    "\n",
    "-- Query the table\n",
    "SELECT * FROM users;\n"
   ]
  },
  {
   "cell_type": "code",
   "execution_count": null,
   "id": "2981c0f6",
   "metadata": {
    "vscode": {
     "languageId": "sql"
    }
   },
   "outputs": [],
   "source": [
    "%%sql\n",
    "\n",
    "-- Update the age of Alice\n",
    "UPDATE users SET age = 26 WHERE name = 'Alice';\n",
    "\n",
    "-- Delete Max\n",
    "DELETE FROM users WHERE name = 'Max';\n",
    "\n",
    "-- Select all users again\n",
    "SELECT * FROM users;"
   ]
  },
  {
   "cell_type": "markdown",
   "id": "8488bbe8",
   "metadata": {},
   "source": [
    "## Importing data"
   ]
  },
  {
   "cell_type": "code",
   "execution_count": null,
   "id": "3eb92734",
   "metadata": {
    "vscode": {
     "languageId": "sql"
    }
   },
   "outputs": [],
   "source": [
    "%%sql\n",
    "\n",
    "-- Do a bulk insert from an external csv file (about ~150mb)\n",
    "CREATE TABLE taxi_trips AS SELECT * FROM read_csv('./taxi_2010_01_1m.csv')\n"
   ]
  },
  {
   "cell_type": "markdown",
   "id": "f9324bfd",
   "metadata": {},
   "source": [
    "## Summarizing, Filtering and Aggregating"
   ]
  },
  {
   "cell_type": "code",
   "execution_count": null,
   "id": "95c6ea6a",
   "metadata": {
    "vscode": {
     "languageId": "sql"
    }
   },
   "outputs": [],
   "source": [
    "%%sql\n",
    "\n",
    "-- Inspect the table using the SUMMARIZE command\n",
    "FROM (SUMMARIZE taxi_trips)"
   ]
  },
  {
   "cell_type": "code",
   "execution_count": null,
   "id": "2c96f53d",
   "metadata": {
    "vscode": {
     "languageId": "sql"
    }
   },
   "outputs": [],
   "source": [
    "%%sql\n",
    "\n",
    "-- How many taxi trips receive more than $10 in tips? And what is the average distance of these trips?\n",
    "SELECT COUNT(*) as rides, AVG(trip_distance) as avg_distance \n",
    "FROM taxi_trips \n",
    "WHERE tip_amount > 10;"
   ]
  },
  {
   "cell_type": "code",
   "execution_count": null,
   "id": "bffd7f10",
   "metadata": {
    "vscode": {
     "languageId": "sql"
    }
   },
   "outputs": [],
   "source": [
    "%%sql\n",
    "\n",
    "-- What is the average $/mile, grouped by vendor_id?\n",
    "SELECT vendor_id, AVG(fare_amount) / AVG(trip_distance) as avg_fare_per_mile \n",
    "FROM taxi_trips\n",
    "GROUP BY vendor_id\n",
    "ORDER BY avg_fare_per_mile DESC;\n"
   ]
  },
  {
   "cell_type": "markdown",
   "id": "ca0b22f1",
   "metadata": {},
   "source": [
    "## `JOIN`:ing Data"
   ]
  },
  {
   "cell_type": "code",
   "execution_count": null,
   "id": "0839b2ab",
   "metadata": {
    "vscode": {
     "languageId": "sql"
    }
   },
   "outputs": [],
   "source": [
    "%%sql\n",
    "\n",
    "-- Create a table with some weather information\n",
    "CREATE OR REPLACE TABLE weather (date DATE, temperature FLOAT, precipitation FLOAT);\n",
    "\n",
    "-- Insert some data into the table for a few days\n",
    "INSERT INTO weather VALUES ('2010-01-03', 32, 0.1);\n",
    "INSERT INTO weather VALUES ('2010-01-02', 35, 0.2);"
   ]
  },
  {
   "cell_type": "code",
   "execution_count": null,
   "id": "0fc33557",
   "metadata": {
    "vscode": {
     "languageId": "sql"
    }
   },
   "outputs": [],
   "source": [
    "%%sql\n",
    "\n",
    "-- Join the taxi trip table with the weather table to get the weather information for each trip\n",
    "SELECT \n",
    "    vendor_id, \n",
    "    trip_distance, \n",
    "    temperature, \n",
    "    precipitation \n",
    "FROM \n",
    "    taxi_trips \n",
    "JOIN \n",
    "    weather \n",
    "ON \n",
    "    taxi_trips.pickup_datetime = weather.date\n",
    "LIMIT 10;\n"
   ]
  },
  {
   "cell_type": "code",
   "execution_count": null,
   "id": "b7b1f8b8",
   "metadata": {
    "vscode": {
     "languageId": "sql"
    }
   },
   "outputs": [],
   "source": [
    "%%sql\n",
    "\n",
    "-- Lets join again, but this time compute the average temperature and precipitation for each vendor\n",
    "SELECT \n",
    "    vendor_id, \n",
    "    AVG(temperature) as avg_temperature, \n",
    "    AVG(precipitation) as avg_precipitation\n",
    "FROM \n",
    "    taxi_trips\n",
    "JOIN\n",
    "    weather\n",
    "ON\n",
    "    taxi_trips.pickup_datetime = weather.date\n",
    "GROUP BY vendor_id;"
   ]
  }
 ],
 "metadata": {
  "kernelspec": {
   "display_name": "Python 3 (ipykernel)",
   "language": "python",
   "name": "python3"
  },
  "language_info": {
   "codemirror_mode": {
    "name": "ipython",
    "version": 3
   },
   "file_extension": ".py",
   "mimetype": "text/x-python",
   "name": "python",
   "nbconvert_exporter": "python",
   "pygments_lexer": "ipython3",
   "version": "3.11.9"
  }
 },
 "nbformat": 4,
 "nbformat_minor": 5
}
