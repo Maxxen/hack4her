{
 "cells": [
  {
   "cell_type": "code",
   "execution_count": 11,
   "id": "ab41e8d4-27d6-4d44-9a52-040ff82c3702",
   "metadata": {},
   "outputs": [],
   "source": [
    "import duckdb\n",
    "import pandas as pd\n",
    "import geopandas as gpd\n",
    "\n",
    "%config SqlMagic.autopandas = True\n",
    "%config SqlMagic.feedback = False\n",
    "%config SqlMagic.displaylimit = 10\n",
    "\n",
    "pd.set_option(\"display.precision\", 2)\n",
    "\n",
    "con = duckdb.connect()\n",
    "\n",
    "def plot_gdf(res, col):\n",
    "    # conver the result to a GeoDataFrame, converting from WKT to geometry\n",
    "    res_gdf = gpd.GeoDataFrame(res, geometry=gpd.GeoSeries.from_wkt(res['geom']))\n",
    "    # Plot the result, coloring by the 'vendor_id' column\n",
    "    res_gdf.plot(column=col, legend=True)\n",
    "\n",
    "%reload_ext sql\n",
    "%sql con --alias duckdb"
   ]
  },
  {
   "cell_type": "code",
   "execution_count": 12,
   "id": "079901df",
   "metadata": {
    "vscode": {
     "languageId": "sql"
    }
   },
   "outputs": [
    {
     "data": {
      "text/html": [
       "<div>\n",
       "<style scoped>\n",
       "    .dataframe tbody tr th:only-of-type {\n",
       "        vertical-align: middle;\n",
       "    }\n",
       "\n",
       "    .dataframe tbody tr th {\n",
       "        vertical-align: top;\n",
       "    }\n",
       "\n",
       "    .dataframe thead th {\n",
       "        text-align: right;\n",
       "    }\n",
       "</style>\n",
       "<table border=\"1\" class=\"dataframe\">\n",
       "  <thead>\n",
       "    <tr style=\"text-align: right;\">\n",
       "      <th></th>\n",
       "      <th>Success</th>\n",
       "    </tr>\n",
       "  </thead>\n",
       "  <tbody>\n",
       "  </tbody>\n",
       "</table>\n",
       "</div>"
      ],
      "text/plain": [
       "Empty DataFrame\n",
       "Columns: [Success]\n",
       "Index: []"
      ]
     },
     "execution_count": 12,
     "metadata": {},
     "output_type": "execute_result"
    }
   ],
   "source": [
    "%%sql\n",
    "\n",
    "-- Install and load the DuckDB \"spatial\" extension\n",
    "\n",
    "INSTALL spatial;\n",
    "LOAD spatial"
   ]
  },
  {
   "cell_type": "code",
   "execution_count": 3,
   "id": "97cab389",
   "metadata": {
    "vscode": {
     "languageId": "sql"
    }
   },
   "outputs": [
    {
     "data": {
      "text/html": [
       "<div>\n",
       "<style scoped>\n",
       "    .dataframe tbody tr th:only-of-type {\n",
       "        vertical-align: middle;\n",
       "    }\n",
       "\n",
       "    .dataframe tbody tr th {\n",
       "        vertical-align: top;\n",
       "    }\n",
       "\n",
       "    .dataframe thead th {\n",
       "        text-align: right;\n",
       "    }\n",
       "</style>\n",
       "<table border=\"1\" class=\"dataframe\">\n",
       "  <thead>\n",
       "    <tr style=\"text-align: right;\">\n",
       "      <th></th>\n",
       "      <th>id</th>\n",
       "      <th>st_astext(geom)</th>\n",
       "    </tr>\n",
       "  </thead>\n",
       "  <tbody>\n",
       "    <tr>\n",
       "      <th>0</th>\n",
       "      <td>1</td>\n",
       "      <td>POINT (32 42)</td>\n",
       "    </tr>\n",
       "    <tr>\n",
       "      <th>1</th>\n",
       "      <td>2</td>\n",
       "      <td>LINESTRING (0 0, 1 1, 2 2)</td>\n",
       "    </tr>\n",
       "  </tbody>\n",
       "</table>\n",
       "</div>"
      ],
      "text/plain": [
       "   id             st_astext(geom)\n",
       "0   1               POINT (32 42)\n",
       "1   2  LINESTRING (0 0, 1 1, 2 2)"
      ]
     },
     "execution_count": 3,
     "metadata": {},
     "output_type": "execute_result"
    }
   ],
   "source": [
    "%%sql\n",
    "\n",
    "-- Create a table with a spatial GEOMETRY column\n",
    "\n",
    "CREATE TABLE spatial_table (id INT, geom GEOMETRY);\n",
    "\n",
    "-- Insert a point created with the ST_Point function\n",
    "INSERT INTO spatial_table VALUES (1, ST_Point(32, 42));\n",
    "\n",
    "-- Insert a line created with the ST_GeomFromText function\n",
    "INSERT INTO spatial_table VALUES (2, ST_GeomFromText('LINESTRING (0 0, 1 1, 2 2)'));\n",
    "\n",
    "-- Select all rows from the table\n",
    "SELECT id, ST_AsText(geom) FROM spatial_table;"
   ]
  },
  {
   "cell_type": "code",
   "execution_count": 36,
   "id": "ae81e689",
   "metadata": {
    "vscode": {
     "languageId": "sql"
    }
   },
   "outputs": [
    {
     "name": "stderr",
     "output_type": "stream",
     "text": [
      "RuntimeError: Catalog Error: Table with name \"taxi_trips_points\" already exists!\n",
      "If you need help solving this issue, send us a message: https://ploomber.io/community\n"
     ]
    }
   ],
   "source": [
    "%%sql\n",
    "\n",
    "-- Lets import the taxi trips again, this time creating points from the dropoff coordinates\n",
    "CREATE TABLE taxi_trips_points AS\n",
    "SELECT \n",
    "    vendor_id, \n",
    "    trip_distance, \n",
    "    ST_Point(dropoff_latitude, dropoff_longitude) AS geom\n",
    "FROM read_csv('./taxi_2010_01_1m.csv');"
   ]
  },
  {
   "cell_type": "code",
   "execution_count": 27,
   "id": "e47ed159",
   "metadata": {
    "vscode": {
     "languageId": "sql"
    }
   },
   "outputs": [
    {
     "data": {
      "text/html": [
       "<div>\n",
       "<style scoped>\n",
       "    .dataframe tbody tr th:only-of-type {\n",
       "        vertical-align: middle;\n",
       "    }\n",
       "\n",
       "    .dataframe tbody tr th {\n",
       "        vertical-align: top;\n",
       "    }\n",
       "\n",
       "    .dataframe thead th {\n",
       "        text-align: right;\n",
       "    }\n",
       "</style>\n",
       "<table border=\"1\" class=\"dataframe\">\n",
       "  <thead>\n",
       "    <tr style=\"text-align: right;\">\n",
       "      <th></th>\n",
       "      <th>count_star()</th>\n",
       "    </tr>\n",
       "  </thead>\n",
       "  <tbody>\n",
       "    <tr>\n",
       "      <th>0</th>\n",
       "      <td>944</td>\n",
       "    </tr>\n",
       "  </tbody>\n",
       "</table>\n",
       "</div>"
      ],
      "text/plain": [
       "   count_star()\n",
       "0           944"
      ]
     },
     "execution_count": 27,
     "metadata": {},
     "output_type": "execute_result"
    }
   ],
   "source": [
    "%%sql\n",
    "\n",
    "-- How many trips ended within 100 meters of the Empire State Building?\n",
    "-- 100 meters is approximately 0.0009 degrees (at the equator)\n",
    "\n",
    "SELECT COUNT(*)\n",
    "FROM taxi_trips_points\n",
    "WHERE ST_Distance(geom, ST_Point(40.748817, -73.985428)) < (0.0009);\n"
   ]
  },
  {
   "cell_type": "code",
   "execution_count": 29,
   "id": "c273502a",
   "metadata": {
    "vscode": {
     "languageId": "sql"
    }
   },
   "outputs": [
    {
     "data": {
      "text/html": [
       "<div>\n",
       "<style scoped>\n",
       "    .dataframe tbody tr th:only-of-type {\n",
       "        vertical-align: middle;\n",
       "    }\n",
       "\n",
       "    .dataframe tbody tr th {\n",
       "        vertical-align: top;\n",
       "    }\n",
       "\n",
       "    .dataframe thead th {\n",
       "        text-align: right;\n",
       "    }\n",
       "</style>\n",
       "<table border=\"1\" class=\"dataframe\">\n",
       "  <thead>\n",
       "    <tr style=\"text-align: right;\">\n",
       "      <th></th>\n",
       "      <th>borough</th>\n",
       "      <th>zone</th>\n",
       "      <th>st_astext(geom)</th>\n",
       "    </tr>\n",
       "  </thead>\n",
       "  <tbody>\n",
       "    <tr>\n",
       "      <th>0</th>\n",
       "      <td>EWR</td>\n",
       "      <td>Newark Airport</td>\n",
       "      <td>POLYGON ((933100.9183527103 192536.08569720192...</td>\n",
       "    </tr>\n",
       "    <tr>\n",
       "      <th>1</th>\n",
       "      <td>Queens</td>\n",
       "      <td>Jamaica Bay</td>\n",
       "      <td>MULTIPOLYGON (((1033269.2435912937 172126.0078...</td>\n",
       "    </tr>\n",
       "    <tr>\n",
       "      <th>2</th>\n",
       "      <td>Bronx</td>\n",
       "      <td>Allerton/Pelham Gardens</td>\n",
       "      <td>POLYGON ((1026308.7695066631 256767.6975403726...</td>\n",
       "    </tr>\n",
       "    <tr>\n",
       "      <th>3</th>\n",
       "      <td>Manhattan</td>\n",
       "      <td>Alphabet City</td>\n",
       "      <td>POLYGON ((992073.4667968601 203714.07598876953...</td>\n",
       "    </tr>\n",
       "    <tr>\n",
       "      <th>4</th>\n",
       "      <td>Staten Island</td>\n",
       "      <td>Arden Heights</td>\n",
       "      <td>POLYGON ((935843.3104932606 144283.33585065603...</td>\n",
       "    </tr>\n",
       "  </tbody>\n",
       "</table>\n",
       "</div>"
      ],
      "text/plain": [
       "         borough                     zone  \\\n",
       "0            EWR           Newark Airport   \n",
       "1         Queens              Jamaica Bay   \n",
       "2          Bronx  Allerton/Pelham Gardens   \n",
       "3      Manhattan            Alphabet City   \n",
       "4  Staten Island            Arden Heights   \n",
       "\n",
       "                                     st_astext(geom)  \n",
       "0  POLYGON ((933100.9183527103 192536.08569720192...  \n",
       "1  MULTIPOLYGON (((1033269.2435912937 172126.0078...  \n",
       "2  POLYGON ((1026308.7695066631 256767.6975403726...  \n",
       "3  POLYGON ((992073.4667968601 203714.07598876953...  \n",
       "4  POLYGON ((935843.3104932606 144283.33585065603...  "
      ]
     },
     "execution_count": 29,
     "metadata": {},
     "output_type": "execute_result"
    }
   ],
   "source": [
    "%%sql\n",
    "\n",
    "-- Import the taxi zones as geometries using the ST_Read table function\n",
    "CREATE OR REPLACE TABLE taxi_zones AS SELECT * FROM ST_Read('taxi_zones/taxi_zones.shp');\n",
    "\n",
    "-- Display the first 5 rows\n",
    "SELECT borough, zone, ST_AsText(geom) FROM taxi_zones LIMIT 5;\n"
   ]
  },
  {
   "cell_type": "markdown",
   "id": "8e9f3bc1",
   "metadata": {},
   "source": [
    "## Coordinate Systems (back to the slides)"
   ]
  },
  {
   "cell_type": "code",
   "execution_count": 55,
   "id": "95c4cad6",
   "metadata": {
    "vscode": {
     "languageId": "sql"
    }
   },
   "outputs": [
    {
     "data": {
      "text/html": [
       "<div>\n",
       "<style scoped>\n",
       "    .dataframe tbody tr th:only-of-type {\n",
       "        vertical-align: middle;\n",
       "    }\n",
       "\n",
       "    .dataframe tbody tr th {\n",
       "        vertical-align: top;\n",
       "    }\n",
       "\n",
       "    .dataframe thead th {\n",
       "        text-align: right;\n",
       "    }\n",
       "</style>\n",
       "<table border=\"1\" class=\"dataframe\">\n",
       "  <thead>\n",
       "    <tr style=\"text-align: right;\">\n",
       "      <th></th>\n",
       "      <th>Count</th>\n",
       "    </tr>\n",
       "  </thead>\n",
       "  <tbody>\n",
       "    <tr>\n",
       "      <th>0</th>\n",
       "      <td>263</td>\n",
       "    </tr>\n",
       "  </tbody>\n",
       "</table>\n",
       "</div>"
      ],
      "text/plain": [
       "   Count\n",
       "0    263"
      ]
     },
     "execution_count": 55,
     "metadata": {},
     "output_type": "execute_result"
    }
   ],
   "source": [
    "%%sql\n",
    "\n",
    "-- The taxi zones are in the EPSG:2263 projection. Let's convert them to EPSG:4326\n",
    "-- using the ST_Transform function, taking the source and target EPSG codes as arguments\n",
    "\n",
    "CREATE OR REPLACE TABLE taxi_zones_4326 AS \n",
    "SELECT\n",
    "    borough, \n",
    "    zone,\n",
    "    ST_Transform(geom, 'EPSG:2263', 'EPSG:4326') AS geom\n",
    "FROM taxi_zones;"
   ]
  },
  {
   "cell_type": "code",
   "execution_count": 59,
   "id": "9afa203a",
   "metadata": {
    "vscode": {
     "languageId": "sql"
    }
   },
   "outputs": [
    {
     "data": {
      "text/html": [
       "<div>\n",
       "<style scoped>\n",
       "    .dataframe tbody tr th:only-of-type {\n",
       "        vertical-align: middle;\n",
       "    }\n",
       "\n",
       "    .dataframe tbody tr th {\n",
       "        vertical-align: top;\n",
       "    }\n",
       "\n",
       "    .dataframe thead th {\n",
       "        text-align: right;\n",
       "    }\n",
       "</style>\n",
       "<table border=\"1\" class=\"dataframe\">\n",
       "  <thead>\n",
       "    <tr style=\"text-align: right;\">\n",
       "      <th></th>\n",
       "      <th>borough</th>\n",
       "      <th>zone</th>\n",
       "      <th>st_astext(geom)</th>\n",
       "    </tr>\n",
       "  </thead>\n",
       "  <tbody>\n",
       "    <tr>\n",
       "      <th>0</th>\n",
       "      <td>EWR</td>\n",
       "      <td>Newark Airport</td>\n",
       "      <td>POLYGON ((40.694996000000096 -74.1844529999999...</td>\n",
       "    </tr>\n",
       "    <tr>\n",
       "      <th>1</th>\n",
       "      <td>Queens</td>\n",
       "      <td>Jamaica Bay</td>\n",
       "      <td>MULTIPOLYGON (((40.63898704717692 -73.82337597...</td>\n",
       "    </tr>\n",
       "    <tr>\n",
       "      <th>2</th>\n",
       "      <td>Bronx</td>\n",
       "      <td>Allerton/Pelham Gardens</td>\n",
       "      <td>POLYGON ((40.8713422340001 -73.84792614099985,...</td>\n",
       "    </tr>\n",
       "    <tr>\n",
       "      <th>3</th>\n",
       "      <td>Manhattan</td>\n",
       "      <td>Alphabet City</td>\n",
       "      <td>POLYGON ((40.72582128133726 -73.97177410965318...</td>\n",
       "    </tr>\n",
       "    <tr>\n",
       "      <th>4</th>\n",
       "      <td>Staten Island</td>\n",
       "      <td>Arden Heights</td>\n",
       "      <td>POLYGON ((40.56256808600009 -74.17421738099989...</td>\n",
       "    </tr>\n",
       "  </tbody>\n",
       "</table>\n",
       "</div>"
      ],
      "text/plain": [
       "         borough                     zone  \\\n",
       "0            EWR           Newark Airport   \n",
       "1         Queens              Jamaica Bay   \n",
       "2          Bronx  Allerton/Pelham Gardens   \n",
       "3      Manhattan            Alphabet City   \n",
       "4  Staten Island            Arden Heights   \n",
       "\n",
       "                                     st_astext(geom)  \n",
       "0  POLYGON ((40.694996000000096 -74.1844529999999...  \n",
       "1  MULTIPOLYGON (((40.63898704717692 -73.82337597...  \n",
       "2  POLYGON ((40.8713422340001 -73.84792614099985,...  \n",
       "3  POLYGON ((40.72582128133726 -73.97177410965318...  \n",
       "4  POLYGON ((40.56256808600009 -74.17421738099989...  "
      ]
     },
     "execution_count": 59,
     "metadata": {},
     "output_type": "execute_result"
    }
   ],
   "source": [
    "%%sql\n",
    "\n",
    "SELECT borough, zone, ST_AsText(geom) FROM taxi_zones_4326 LIMIT 5;\n"
   ]
  },
  {
   "cell_type": "code",
   "execution_count": 57,
   "id": "a382d762",
   "metadata": {
    "vscode": {
     "languageId": "sql"
    }
   },
   "outputs": [
    {
     "data": {
      "text/html": [
       "<div>\n",
       "<style scoped>\n",
       "    .dataframe tbody tr th:only-of-type {\n",
       "        vertical-align: middle;\n",
       "    }\n",
       "\n",
       "    .dataframe tbody tr th {\n",
       "        vertical-align: top;\n",
       "    }\n",
       "\n",
       "    .dataframe thead th {\n",
       "        text-align: right;\n",
       "    }\n",
       "</style>\n",
       "<table border=\"1\" class=\"dataframe\">\n",
       "  <thead>\n",
       "    <tr style=\"text-align: right;\">\n",
       "      <th></th>\n",
       "      <th>count_star()</th>\n",
       "      <th>borough</th>\n",
       "    </tr>\n",
       "  </thead>\n",
       "  <tbody>\n",
       "    <tr>\n",
       "      <th>0</th>\n",
       "      <td>4605</td>\n",
       "      <td>Bronx</td>\n",
       "    </tr>\n",
       "    <tr>\n",
       "      <th>1</th>\n",
       "      <td>883532</td>\n",
       "      <td>Manhattan</td>\n",
       "    </tr>\n",
       "    <tr>\n",
       "      <th>2</th>\n",
       "      <td>251</td>\n",
       "      <td>Staten Island</td>\n",
       "    </tr>\n",
       "    <tr>\n",
       "      <th>3</th>\n",
       "      <td>1004</td>\n",
       "      <td>EWR</td>\n",
       "    </tr>\n",
       "    <tr>\n",
       "      <th>4</th>\n",
       "      <td>41989</td>\n",
       "      <td>Brooklyn</td>\n",
       "    </tr>\n",
       "    <tr>\n",
       "      <th>5</th>\n",
       "      <td>44583</td>\n",
       "      <td>Queens</td>\n",
       "    </tr>\n",
       "  </tbody>\n",
       "</table>\n",
       "</div>"
      ],
      "text/plain": [
       "   count_star()        borough\n",
       "0          4605          Bronx\n",
       "1        883532      Manhattan\n",
       "2           251  Staten Island\n",
       "3          1004            EWR\n",
       "4         41989       Brooklyn\n",
       "5         44583         Queens"
      ]
     },
     "execution_count": 57,
     "metadata": {},
     "output_type": "execute_result"
    }
   ],
   "source": [
    "%%sql\n",
    "\n",
    "-- Now that both tables are in the same projection, lets use a spatial JOIN \n",
    "-- to count the number of taxi pickups in each zone!\n",
    "\n",
    "SELECT \n",
    "    COUNT(*) as dropoff_count, \n",
    "    taxi_zones_4326.borough\n",
    "FROM \n",
    "    taxi_zones_4326\n",
    "JOIN \n",
    "    taxi_trips_points\n",
    "ON \n",
    "    ST_Contains(taxi_zones_4326.geom, taxi_trips_points.geom)\n",
    "GROUP BY \n",
    "    taxi_zones_4326.borough\n",
    "ORDER BY\n",
    "    dropoff_count DESC;"
   ]
  }
 ],
 "metadata": {
  "kernelspec": {
   "display_name": "Python 3 (ipykernel)",
   "language": "python",
   "name": "python3"
  },
  "language_info": {
   "codemirror_mode": {
    "name": "ipython",
    "version": 3
   },
   "file_extension": ".py",
   "mimetype": "text/x-python",
   "name": "python",
   "nbconvert_exporter": "python",
   "pygments_lexer": "ipython3",
   "version": "3.11.9"
  }
 },
 "nbformat": 4,
 "nbformat_minor": 5
}
